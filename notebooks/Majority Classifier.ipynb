{
 "cells": [
  {
   "cell_type": "code",
   "execution_count": 2,
   "metadata": {},
   "outputs": [
    {
     "name": "stderr",
     "output_type": "stream",
     "text": [
      "[nltk_data] Downloading package stopwords to /u/arsaikia/nltk_data...\n",
      "[nltk_data]   Package stopwords is already up-to-date!\n"
     ]
    }
   ],
   "source": [
    "from Twitter import TwitterAccess\n",
    "import pandas as pd\n",
    "import time\n",
    "from tqdm import tqdm\n",
    "import matplotlib.pyplot as plt\n",
    "import seaborn as sns\n",
    "from collections import defaultdict\n",
    "from collections import Counter\n",
    "pd.options.display.max_colwidth = None\n",
    "import nltk\n",
    "import string\n",
    "import re\n",
    "nltk.download('stopwords')\n",
    "from nltk.corpus import stopwords\n",
    "from spellchecker import SpellChecker\n",
    "import random\n",
    "import numpy as np\n",
    "from multiprocessing import  Pool\n",
    "from sklearn.preprocessing import LabelEncoder\n",
    "from sklearn.model_selection import train_test_split\n",
    "from sklearn.feature_extraction.text import TfidfVectorizer, CountVectorizer, HashingVectorizer\n",
    "from sklearn.metrics import classification_report, roc_auc_score, f1_score\n",
    "from sklearn.base import BaseEstimator, ClassifierMixin # ???\n",
    "from sklearn.utils.validation import check_X_y, check_is_fitted # ???\n",
    "from scipy import sparse #???\n",
    "from sklearn.linear_model import LogisticRegression\n",
    "\n"
   ]
  },
  {
   "cell_type": "code",
   "execution_count": 3,
   "metadata": {},
   "outputs": [],
   "source": [
    "PREPROCESSED = '../preprocessed/'\n",
    "\n",
    "olid = pd.read_csv(PREPROCESSED + 'olid.csv')\n",
    "olid_traina = olid[~pd.isna(olid['tweet_cleaned'])]\n",
    "olid_trainb = olid_traina[~pd.isna(olid_traina['subtask_b'])]\n",
    "olid_trainc = olid_traina[~pd.isna(olid_traina['subtask_c'])]\n",
    "olid_traincii = olid_traina[~pd.isna(olid_traina['subtask_c_ii'])]\n",
    "olid_trainciii = olid_traina[~pd.isna(olid_traina['subtask_c_iii'])]\n",
    "\n",
    "\n",
    "olid_testa = pd.read_csv(PREPROCESSED + 'olid-levela.csv')\n",
    "olid_testa = olid_testa[~pd.isna(olid_testa['tweet_cleaned'])]\n",
    "\n",
    "olid_testb = pd.read_csv(PREPROCESSED + 'olid-levelb.csv')\n",
    "olid_testb = olid_testb[~pd.isna(olid_testb['tweet_cleaned'])]\n",
    "\n",
    "olid_testc = pd.read_csv(PREPROCESSED + 'olid-levelc.csv')\n",
    "olid_testc = olid_testc[~pd.isna(olid_testc['tweet_cleaned'])]\n",
    "olid_testcii = olid_testc[~pd.isna(olid_testc['subtask_c_ii'])]\n",
    "olid_testciii = olid_testc[~pd.isna(olid_testc['subtask_c_iii'])]\n",
    "\n"
   ]
  },
  {
   "cell_type": "code",
   "execution_count": 23,
   "metadata": {},
   "outputs": [
    {
     "name": "stdout",
     "output_type": "stream",
     "text": [
      "              precision    recall  f1-score   support\n",
      "\n",
      "           0       0.72      1.00      0.84       619\n",
      "           1       0.00      0.00      0.00       240\n",
      "\n",
      "    accuracy                           0.72       859\n",
      "   macro avg       0.36      0.50      0.42       859\n",
      "weighted avg       0.52      0.72      0.60       859\n",
      "\n"
     ]
    }
   ],
   "source": [
    "le = LabelEncoder()\n",
    "y = le.fit_transform(olid_testa['subtask_a'])\n",
    "le.classes_\n",
    "\n",
    "print(classification_report(y, np.zeros((len(y)))))"
   ]
  },
  {
   "cell_type": "code",
   "execution_count": 26,
   "metadata": {},
   "outputs": [
    {
     "name": "stdout",
     "output_type": "stream",
     "text": [
      "              precision    recall  f1-score   support\n",
      "\n",
      "           0       0.89      1.00      0.94       213\n",
      "           1       0.00      0.00      0.00        27\n",
      "\n",
      "    accuracy                           0.89       240\n",
      "   macro avg       0.44      0.50      0.47       240\n",
      "weighted avg       0.79      0.89      0.83       240\n",
      "\n"
     ]
    }
   ],
   "source": [
    "le = LabelEncoder()\n",
    "y = le.fit_transform(olid_testb['subtask_b'])\n",
    "le.classes_\n",
    "\n",
    "print(classification_report(y, np.zeros((len(y)))))"
   ]
  },
  {
   "cell_type": "code",
   "execution_count": 27,
   "metadata": {},
   "outputs": [
    {
     "data": {
      "text/plain": [
       "array(['GRP', 'IND', 'OTH'], dtype=object)"
      ]
     },
     "execution_count": 27,
     "metadata": {},
     "output_type": "execute_result"
    }
   ],
   "source": [
    "le = LabelEncoder()\n",
    "y = le.fit_transform(olid_testc['subtask_c'])\n",
    "le.classes_"
   ]
  },
  {
   "cell_type": "code",
   "execution_count": 28,
   "metadata": {},
   "outputs": [
    {
     "data": {
      "text/plain": [
       "(78, 100, 35)"
      ]
     },
     "execution_count": 28,
     "metadata": {},
     "output_type": "execute_result"
    }
   ],
   "source": [
    "sum(y == 0), sum(y == 1), sum(y == 2) "
   ]
  },
  {
   "cell_type": "code",
   "execution_count": 29,
   "metadata": {},
   "outputs": [
    {
     "name": "stdout",
     "output_type": "stream",
     "text": [
      "              precision    recall  f1-score   support\n",
      "\n",
      "           0       0.00      0.00      0.00        78\n",
      "           1       0.47      1.00      0.64       100\n",
      "           2       0.00      0.00      0.00        35\n",
      "\n",
      "    accuracy                           0.47       213\n",
      "   macro avg       0.16      0.33      0.21       213\n",
      "weighted avg       0.22      0.47      0.30       213\n",
      "\n"
     ]
    }
   ],
   "source": [
    "print(classification_report(y, np.ones((len(y)))))"
   ]
  },
  {
   "cell_type": "code",
   "execution_count": null,
   "metadata": {},
   "outputs": [],
   "source": []
  }
 ],
 "metadata": {
  "kernelspec": {
   "display_name": "hd",
   "language": "python",
   "name": "hd"
  },
  "language_info": {
   "codemirror_mode": {
    "name": "ipython",
    "version": 3
   },
   "file_extension": ".py",
   "mimetype": "text/x-python",
   "name": "python",
   "nbconvert_exporter": "python",
   "pygments_lexer": "ipython3",
   "version": "3.7.9"
  }
 },
 "nbformat": 4,
 "nbformat_minor": 4
}
