{
 "cells": [
  {
   "cell_type": "markdown",
   "metadata": {},
   "source": [
    "# Imports"
   ]
  },
  {
   "cell_type": "code",
   "execution_count": 1,
   "metadata": {},
   "outputs": [
    {
     "name": "stderr",
     "output_type": "stream",
     "text": [
      "[nltk_data] Downloading package stopwords to /u/arsaikia/nltk_data...\n",
      "[nltk_data]   Package stopwords is already up-to-date!\n"
     ]
    }
   ],
   "source": [
    "from Twitter import TwitterAccess\n",
    "import pandas as pd\n",
    "import time\n",
    "from tqdm import tqdm\n",
    "import matplotlib.pyplot as plt\n",
    "import seaborn as sns\n",
    "from collections import defaultdict\n",
    "from collections import Counter\n",
    "pd.options.display.max_colwidth = None\n",
    "import nltk\n",
    "import string\n",
    "import re\n",
    "nltk.download('stopwords')\n",
    "from nltk.corpus import stopwords\n",
    "from spellchecker import SpellChecker\n",
    "import random\n",
    "import numpy as np\n",
    "from multiprocessing import  Pool\n",
    "from sklearn.preprocessing import LabelEncoder\n",
    "from sklearn.model_selection import train_test_split\n",
    "from sklearn.feature_extraction.text import TfidfVectorizer, CountVectorizer, HashingVectorizer\n",
    "from sklearn.metrics import classification_report, roc_auc_score\n",
    "from sklearn.base import BaseEstimator, ClassifierMixin # ???\n",
    "from sklearn.utils.validation import check_X_y, check_is_fitted # ???\n",
    "from scipy import sparse #???\n",
    "from sklearn.linear_model import LogisticRegression\n",
    "\n"
   ]
  },
  {
   "cell_type": "markdown",
   "metadata": {},
   "source": [
    "# Architecture"
   ]
  },
  {
   "cell_type": "code",
   "execution_count": 2,
   "metadata": {},
   "outputs": [],
   "source": [
    "class NbSvmClassifier(BaseEstimator, ClassifierMixin):\n",
    "    def __init__(self, C=1.0, dual=False, n_jobs=1):\n",
    "        self.C = C\n",
    "        self.dual = dual\n",
    "        self.n_jobs = n_jobs\n",
    "\n",
    "    def predict(self, x):\n",
    "        # Verify that model has been fit\n",
    "        check_is_fitted(self, ['_r', '_clf'])\n",
    "        return self._clf.predict(x.multiply(self._r))\n",
    "\n",
    "    def predict_proba(self, x):\n",
    "        # Verify that model has been fit\n",
    "        check_is_fitted(self, ['_r', '_clf'])\n",
    "        return self._clf.predict_proba(x.multiply(self._r))\n",
    "\n",
    "    def pr(self, x, y_i, y):\n",
    "        p = x[y==y_i].sum(0)\n",
    "        return (p+1) / ((y==y_i).sum()+1)\n",
    "    \n",
    "    def fit(self, x, y):\n",
    "        # Check that X and y have correct shape\n",
    "#         y = y\n",
    "        x, y = check_X_y(x, y, accept_sparse=True)\n",
    "        self._r = sparse.csr_matrix(np.log(self.pr(x,1,y) / self.pr(x,0,y)))\n",
    "        x_nb = x.multiply(self._r)\n",
    "        self._clf = LogisticRegression(C=self.C, dual=self.dual, n_jobs=self.n_jobs, solver ='liblinear').fit(x_nb, y)\n",
    "        self.coef_ = self._clf.coef_\n",
    "        return self"
   ]
  },
  {
   "cell_type": "markdown",
   "metadata": {},
   "source": [
    "# Train-Validate"
   ]
  },
  {
   "cell_type": "code",
   "execution_count": 3,
   "metadata": {},
   "outputs": [],
   "source": [
    "\n",
    "def train_validate(X, y, min_df):\n",
    "    le = LabelEncoder()\n",
    "    y = le.fit_transform(y)\n",
    "\n",
    "    tfv = TfidfVectorizer(tokenizer=nltk.casual_tokenize, min_df=min_df,  max_features=30000, \n",
    "                strip_accents='unicode', analyzer='word',ngram_range=(1,3),\n",
    "                use_idf=1,smooth_idf=1,sublinear_tf=1,\n",
    "                stop_words = 'english')\n",
    "    X = tfv.fit_transform(X).tocsr()\n",
    "\n",
    "    X_train, X_valid, y_train, y_valid = train_test_split(X, y, test_size=0.33, random_state=42)\n",
    "    print(X_train.shape, X_valid.shape, y_train.shape, y_valid.shape)\n",
    "    \n",
    "\n",
    "    model = NbSvmClassifier(C=1, dual=True, n_jobs=1)\n",
    "\n",
    "    model.fit(X_train, y_train)\n",
    "    preds_valid = model.predict(X_valid)\n",
    "#     proba_valid = model.predict_proba(X_valid)[:,1]\n",
    "    preds_train = model.predict(X_train)\n",
    "#     proba_train = model.predict_proba(X_train)[:,1]\n",
    "\n",
    "\n",
    "    print(classification_report(y_train, preds_train))\n",
    "    try:\n",
    "        print('AUC: ',  roc_auc_score(y_train, model.predict_proba(X_train)[:,1]))\n",
    "    except:\n",
    "        print('AUC: ',  roc_auc_score(y_train, model.predict_proba(X_train), multi_class ='ovr'))\n",
    "        \n",
    "    print(classification_report(y_valid, preds_valid))\n",
    "    try:\n",
    "        print('AUC: ',  roc_auc_score(y_valid, model.predict_proba(X_valid)[:,1]))\n",
    "    except:\n",
    "        print('AUC: ',  roc_auc_score(y_valid, model.predict_proba(X_valid), multi_class ='ovr'))\n",
    "    return model, tfv\n"
   ]
  },
  {
   "cell_type": "markdown",
   "metadata": {},
   "source": [
    "# Test"
   ]
  },
  {
   "cell_type": "code",
   "execution_count": 4,
   "metadata": {},
   "outputs": [],
   "source": [
    "def test(X, y, X_test,y_test,min_df):\n",
    "    le = LabelEncoder()\n",
    "    y = le.fit_transform(y)\n",
    "\n",
    "    tfv = TfidfVectorizer(tokenizer=nltk.casual_tokenize, min_df=min_df,  max_features=30000, \n",
    "                strip_accents='unicode', analyzer='word',ngram_range=(1,3),\n",
    "                use_idf=1,smooth_idf=1,sublinear_tf=1,\n",
    "                stop_words = 'english')\n",
    "    X = tfv.fit_transform(X).tocsr()\n",
    "\n",
    "    model = NbSvmClassifier(C=1, dual=True, n_jobs=1)\n",
    "\n",
    "    model.fit(X, y)\n",
    "\n",
    "    y_test = le.transform(y_test)\n",
    "    X_test = tfv.transform(X_test).tocsr()\n",
    "\n",
    "    print(X_test.shape, y_test.shape)\n",
    "    preds_test = model.predict(X_test)\n",
    "#     proba_test = model.predict_proba(X_test)[:,1]\n",
    "\n",
    "\n",
    "    print(classification_report(y_test, preds_test))\n",
    "    try:\n",
    "        print('AUC: ',  roc_auc_score(y_test, model.predict_proba(X_test)[:,1]))\n",
    "    except:\n",
    "        print('AUC: ',  roc_auc_score(y_test, model.predict_proba(X_test), multi_class ='ovr'))\n",
    "\n",
    "\n"
   ]
  },
  {
   "cell_type": "markdown",
   "metadata": {},
   "source": [
    "# Load Data"
   ]
  },
  {
   "cell_type": "code",
   "execution_count": 5,
   "metadata": {},
   "outputs": [],
   "source": [
    "PREPROCESSED = '../preprocessed/'\n",
    "\n",
    "olid = pd.read_csv(PREPROCESSED + 'olid.csv')\n",
    "olid_traina = olid[~pd.isna(olid['tweet_cleaned'])]\n",
    "olid_trainb = olid_traina[~pd.isna(olid_traina['subtask_b'])]\n",
    "olid_trainc = olid_traina[~pd.isna(olid_traina['subtask_c'])]\n",
    "\n",
    "\n",
    "olid_testa = pd.read_csv(PREPROCESSED + 'olid-levela.csv')\n",
    "olid_testa = olid_testa[~pd.isna(olid_testa['tweet_cleaned'])]\n",
    "\n",
    "olid_testb = pd.read_csv(PREPROCESSED + 'olid-levelb.csv')\n",
    "olid_testb = olid_testb[~pd.isna(olid_testb['tweet_cleaned'])]\n",
    "\n",
    "olid_testc = pd.read_csv(PREPROCESSED + 'olid-levelc.csv')\n",
    "olid_testc = olid_testc[~pd.isna(olid_testc['tweet_cleaned'])]"
   ]
  },
  {
   "cell_type": "markdown",
   "metadata": {},
   "source": [
    "# Subtask A"
   ]
  },
  {
   "cell_type": "code",
   "execution_count": 6,
   "metadata": {},
   "outputs": [
    {
     "name": "stdout",
     "output_type": "stream",
     "text": [
      "(8870, 1177) (4369, 1177) (8870,) (4369,)\n",
      "              precision    recall  f1-score   support\n",
      "\n",
      "           0       0.77      0.96      0.85      5922\n",
      "           1       0.83      0.43      0.57      2948\n",
      "\n",
      "    accuracy                           0.78      8870\n",
      "   macro avg       0.80      0.69      0.71      8870\n",
      "weighted avg       0.79      0.78      0.76      8870\n",
      "\n",
      "AUC:  0.8362387828289701\n",
      "              precision    recall  f1-score   support\n",
      "\n",
      "           0       0.76      0.95      0.84      2917\n",
      "           1       0.79      0.39      0.52      1452\n",
      "\n",
      "    accuracy                           0.76      4369\n",
      "   macro avg       0.77      0.67      0.68      4369\n",
      "weighted avg       0.77      0.76      0.74      4369\n",
      "\n",
      "AUC:  0.7659208487152827\n",
      "(859, 1177) (859,)\n",
      "              precision    recall  f1-score   support\n",
      "\n",
      "           0       0.81      0.97      0.88       619\n",
      "           1       0.83      0.43      0.57       240\n",
      "\n",
      "    accuracy                           0.82       859\n",
      "   macro avg       0.82      0.70      0.72       859\n",
      "weighted avg       0.82      0.82      0.79       859\n",
      "\n",
      "AUC:  0.7728156973613355\n"
     ]
    }
   ],
   "source": [
    "modela, tfva = train_validate(olid_traina['tweet_cleaned'], olid_traina['subtask_a'], 20)\n",
    "test(olid_traina['tweet_cleaned'], olid_traina['subtask_a'], olid_testa['tweet_cleaned'], olid_testa['subtask_a'], 20)"
   ]
  },
  {
   "cell_type": "markdown",
   "metadata": {},
   "source": [
    "# Subtask B"
   ]
  },
  {
   "cell_type": "code",
   "execution_count": 7,
   "metadata": {},
   "outputs": [
    {
     "name": "stdout",
     "output_type": "stream",
     "text": [
      "(2948, 6781) (1452, 6781) (2948,) (1452,)\n",
      "              precision    recall  f1-score   support\n",
      "\n",
      "           0       0.89      1.00      0.94      2599\n",
      "           1       0.93      0.11      0.19       349\n",
      "\n",
      "    accuracy                           0.89      2948\n",
      "   macro avg       0.91      0.55      0.57      2948\n",
      "weighted avg       0.90      0.89      0.85      2948\n",
      "\n",
      "AUC:  0.9734954263872703\n",
      "              precision    recall  f1-score   support\n",
      "\n",
      "           0       0.88      1.00      0.94      1277\n",
      "           1       0.50      0.02      0.03       175\n",
      "\n",
      "    accuracy                           0.88      1452\n",
      "   macro avg       0.69      0.51      0.48      1452\n",
      "weighted avg       0.84      0.88      0.83      1452\n",
      "\n",
      "AUC:  0.6365946973934444\n",
      "(240, 1349) (240,)\n",
      "              precision    recall  f1-score   support\n",
      "\n",
      "           0       0.89      1.00      0.94       213\n",
      "           1       0.67      0.07      0.13        27\n",
      "\n",
      "    accuracy                           0.89       240\n",
      "   macro avg       0.78      0.53      0.54       240\n",
      "weighted avg       0.87      0.89      0.85       240\n",
      "\n",
      "AUC:  0.7755173013388976\n"
     ]
    }
   ],
   "source": [
    "modelb, tfvb = train_validate(olid_trainb['tweet_cleaned'], olid_trainb['subtask_b'],2)\n",
    "test(olid_trainb['tweet_cleaned'], olid_trainb['subtask_b'], olid_testb['tweet_cleaned'], olid_testb['subtask_b'],7)"
   ]
  },
  {
   "cell_type": "code",
   "execution_count": 8,
   "metadata": {},
   "outputs": [],
   "source": [
    "# Threshold analysis"
   ]
  },
  {
   "cell_type": "markdown",
   "metadata": {},
   "source": [
    "# Subtask C"
   ]
  },
  {
   "cell_type": "code",
   "execution_count": 9,
   "metadata": {},
   "outputs": [
    {
     "name": "stdout",
     "output_type": "stream",
     "text": [
      "(2596, 1790) (1280, 1790) (2596,) (1280,)\n",
      "              precision    recall  f1-score   support\n",
      "\n",
      "           0       0.76      0.57      0.65       735\n",
      "           1       0.75      0.95      0.84      1600\n",
      "           2       1.00      0.01      0.02       261\n",
      "\n",
      "    accuracy                           0.75      2596\n",
      "   macro avg       0.84      0.51      0.50      2596\n",
      "weighted avg       0.78      0.75      0.70      2596\n",
      "\n",
      "AUC:  0.8833370040571302\n",
      "              precision    recall  f1-score   support\n",
      "\n",
      "           0       0.59      0.41      0.48       339\n",
      "           1       0.71      0.92      0.80       807\n",
      "           2       0.00      0.00      0.00       134\n",
      "\n",
      "    accuracy                           0.69      1280\n",
      "   macro avg       0.43      0.44      0.43      1280\n",
      "weighted avg       0.61      0.69      0.63      1280\n",
      "\n",
      "AUC:  0.7160584444857597\n",
      "(213, 1790) (213,)\n",
      "              precision    recall  f1-score   support\n",
      "\n",
      "           0       0.70      0.36      0.47        78\n",
      "           1       0.54      0.94      0.69       100\n",
      "           2       0.00      0.00      0.00        35\n",
      "\n",
      "    accuracy                           0.57       213\n",
      "   macro avg       0.41      0.43      0.39       213\n",
      "weighted avg       0.51      0.57      0.50       213\n",
      "\n",
      "AUC:  0.6718073525021699\n"
     ]
    },
    {
     "name": "stderr",
     "output_type": "stream",
     "text": [
      "/home/arsaikia/anaconda3/envs/hd/lib/python3.7/site-packages/sklearn/metrics/_classification.py:1221: UndefinedMetricWarning: Precision and F-score are ill-defined and being set to 0.0 in labels with no predicted samples. Use `zero_division` parameter to control this behavior.\n",
      "  _warn_prf(average, modifier, msg_start, len(result))\n"
     ]
    }
   ],
   "source": [
    "modelc, tfvc = train_validate(olid_trainc['tweet_cleaned'], olid_trainc['subtask_c'],5)\n",
    "test(olid_trainc['tweet_cleaned'], olid_trainc['subtask_c'], olid_testc['tweet_cleaned'], olid_testc['subtask_c'],5)"
   ]
  },
  {
   "cell_type": "markdown",
   "metadata": {},
   "source": [
    "# Feature Importances"
   ]
  },
  {
   "cell_type": "code",
   "execution_count": 10,
   "metadata": {},
   "outputs": [],
   "source": [
    "def top_lr_feats(features,row, top_n=25, pos = True):\n",
    "    ''' Get top n tfidf values in row and return them with their corresponding feature names.'''\n",
    "    if pos == True:\n",
    "        topn_ids = np.argsort(row)[::-1][:top_n]\n",
    "    else:\n",
    "        topn_ids = np.argsort(row)[:top_n]\n",
    "    top_feats = [(features[i], row[i]) for i in topn_ids]\n",
    "    df = pd.DataFrame(top_feats)\n",
    "    return df.iloc[:,0].values, df.iloc[:,1].values\n",
    "\n",
    "def plot_feat_imp(model, tfv, pos_label, neg_label):\n",
    "    fig,(ax1,ax2)=plt.subplots(2,1,figsize=(20,7))\n",
    "\n",
    "    features = np.array(tfv.get_feature_names())\n",
    "    x, y = top_lr_feats(features,  model.coef_[0],top_n = 20, pos = True)\n",
    "    sns.barplot(x, y, ax = ax1)\n",
    "    ax1.set_title('Class : ' + pos_label)\n",
    "    x, y = top_lr_feats(features, model.coef_[0], top_n = 20, pos = False)\n",
    "    sns.barplot(x, y, ax = ax2)\n",
    "    ax2.set_title('Class : ' + neg_label)\n",
    "\n",
    "    fig.text(0.5, 0.04, 'unigrams', ha='center')\n",
    "    fig.text(0.05, 0.5, 'coeff', va='center',  rotation='vertical')\n",
    "    fig.suptitle('Feature Importances', fontsize=16)\n",
    "# sns.barplot(features,model.coef_[0])"
   ]
  },
  {
   "cell_type": "code",
   "execution_count": 11,
   "metadata": {},
   "outputs": [
    {
     "data": {
      "image/png": "[encoded data removed]",
      "text/plain": [
       "<Figure size 1440x504 with 2 Axes>"
      ]
     },
     "metadata": {
      "needs_background": "light"
     },
     "output_type": "display_data"
    }
   ],
   "source": [
    "plot_feat_imp(modela, tfva, 'OFF', 'NOT')"
   ]
  },
  {
   "cell_type": "code",
   "execution_count": 12,
   "metadata": {},
   "outputs": [
    {
     "data": {
      "image/png": "[encoded data removed]",
      "text/plain": [
       "<Figure size 1440x504 with 2 Axes>"
      ]
     },
     "metadata": {
      "needs_background": "light"
     },
     "output_type": "display_data"
    }
   ],
   "source": [
    "plot_feat_imp(modelb, tfvb, 'TIN', 'UNT')"
   ]
  },
  {
   "cell_type": "code",
   "execution_count": null,
   "metadata": {},
   "outputs": [],
   "source": []
  },
  {
   "cell_type": "code",
   "execution_count": 13,
   "metadata": {},
   "outputs": [],
   "source": [
    "# feature selection\n",
    "# oversampling??"
   ]
  }
 ],
 "metadata": {
  "kernelspec": {
   "display_name": "hd",
   "language": "python",
   "name": "hd"
  },
  "language_info": {
   "codemirror_mode": {
    "name": "ipython",
    "version": 3
   },
   "file_extension": ".py",
   "mimetype": "text/x-python",
   "name": "python",
   "nbconvert_exporter": "python",
   "pygments_lexer": "ipython3",
   "version": "3.7.9"
  }
 },
 "nbformat": 4,
 "nbformat_minor": 4
}
