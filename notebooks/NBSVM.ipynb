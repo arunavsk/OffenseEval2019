{
 "cells": [
  {
   "cell_type": "markdown",
   "metadata": {},
   "source": [
    "# Imports"
   ]
  },
  {
   "cell_type": "code",
   "execution_count": 50,
   "metadata": {},
   "outputs": [
    {
     "name": "stderr",
     "output_type": "stream",
     "text": [
      "[nltk_data] Downloading package stopwords to /u/arsaikia/nltk_data...\n",
      "[nltk_data]   Package stopwords is already up-to-date!\n"
     ]
    }
   ],
   "source": [
    "from Twitter import TwitterAccess\n",
    "import pandas as pd\n",
    "import time\n",
    "from tqdm import tqdm\n",
    "import matplotlib.pyplot as plt\n",
    "import seaborn as sns\n",
    "from collections import defaultdict\n",
    "from collections import Counter\n",
    "pd.options.display.max_colwidth = None\n",
    "import nltk\n",
    "import string\n",
    "import re\n",
    "nltk.download('stopwords')\n",
    "from nltk.corpus import stopwords\n",
    "from spellchecker import SpellChecker\n",
    "import random\n",
    "import numpy as np\n",
    "from multiprocessing import  Pool\n",
    "from sklearn.preprocessing import LabelEncoder\n",
    "from sklearn.model_selection import train_test_split\n",
    "from sklearn.feature_extraction.text import TfidfVectorizer, CountVectorizer, HashingVectorizer\n",
    "from sklearn.metrics import classification_report, roc_auc_score, f1_score\n",
    "from sklearn.base import BaseEstimator, ClassifierMixin # ???\n",
    "from sklearn.utils.validation import check_X_y, check_is_fitted # ???\n",
    "from scipy import sparse #???\n",
    "from sklearn.linear_model import LogisticRegression\n"
   ]
  },
  {
   "cell_type": "markdown",
   "metadata": {},
   "source": [
    "# Architecture"
   ]
  },
  {
   "cell_type": "code",
   "execution_count": 51,
   "metadata": {},
   "outputs": [],
   "source": [
    "class NbSvmClassifier(BaseEstimator, ClassifierMixin):\n",
    "    def __init__(self, C=1.0, dual=False, n_jobs=1):\n",
    "        self.C = C\n",
    "        self.dual = dual\n",
    "        self.n_jobs = n_jobs\n",
    "\n",
    "    def predict(self, x):\n",
    "        # Verify that model has been fit\n",
    "        check_is_fitted(self, ['_r', '_clf'])\n",
    "        return self._clf.predict(x.multiply(self._r))\n",
    "\n",
    "    def predict_proba(self, x):\n",
    "        # Verify that model has been fit\n",
    "        check_is_fitted(self, ['_r', '_clf'])\n",
    "        return self._clf.predict_proba(x.multiply(self._r))\n",
    "\n",
    "    def pr(self, x, y_i, y):\n",
    "        p = x[y==y_i].sum(0)\n",
    "        return (p+1) / ((y==y_i).sum()+1)\n",
    "    \n",
    "    def fit(self, x, y):\n",
    "        # Check that X and y have correct shape\n",
    "#         y = y\n",
    "        x, y = check_X_y(x, y, accept_sparse=True)\n",
    "        self._r = sparse.csr_matrix(np.log(self.pr(x,1,y) / self.pr(x,0,y)))\n",
    "        x_nb = x.multiply(self._r)\n",
    "        self._clf = LogisticRegression(C=self.C, dual=self.dual, n_jobs=self.n_jobs, solver ='liblinear').fit(x_nb, y)\n",
    "        self.coef_ = self._clf.coef_\n",
    "        return self"
   ]
  },
  {
   "cell_type": "markdown",
   "metadata": {},
   "source": [
    "# Train-Validate"
   ]
  },
  {
   "cell_type": "code",
   "execution_count": 52,
   "metadata": {},
   "outputs": [],
   "source": [
    "\n",
    "def train_validate(X, y, min_df, threshold_plot=False):\n",
    "    le = LabelEncoder()\n",
    "    y = le.fit_transform(y)\n",
    "\n",
    "    tfv = TfidfVectorizer(tokenizer=nltk.casual_tokenize, min_df=min_df,  max_features=30000, \n",
    "                strip_accents='unicode', analyzer='word',ngram_range=(1,3),\n",
    "                use_idf=1,smooth_idf=1,sublinear_tf=1,\n",
    "                stop_words = 'english')\n",
    "    X = tfv.fit_transform(X).tocsr()\n",
    "\n",
    "    X_train, X_valid, y_train, y_valid = train_test_split(X, y, test_size=0.33, random_state=42)\n",
    "    print(X_train.shape, X_valid.shape, y_train.shape, y_valid.shape)\n",
    "    \n",
    "\n",
    "    model = NbSvmClassifier(C=1, dual=True, n_jobs=1)\n",
    "\n",
    "    model.fit(X_train, y_train)\n",
    "    preds_valid = model.predict(X_valid)\n",
    "#     proba_valid = model.predict_proba(X_valid)[:,1]\n",
    "    preds_train = model.predict(X_train)\n",
    "#     proba_train = model.predict_proba(X_train)[:,1]\n",
    "    \n",
    "    print('##### TRAINING DATA #####')\n",
    "\n",
    "    print(classification_report(y_train, preds_train))\n",
    "    try:\n",
    "        print('AUC: ',  roc_auc_score(y_train, model.predict_proba(X_train)[:,1]))\n",
    "    except:\n",
    "        print('AUC: ',  roc_auc_score(y_train, model.predict_proba(X_train), multi_class ='ovr'))\n",
    "        \n",
    "    print('##### VALIDATION DATA #####')\n",
    "    print(classification_report(y_valid, preds_valid))\n",
    "    try:\n",
    "        print('AUC: ',  roc_auc_score(y_valid, model.predict_proba(X_valid)[:,1]))\n",
    "    except:\n",
    "        print('AUC: ',  roc_auc_score(y_valid, model.predict_proba(X_valid), multi_class ='ovr'))\n",
    "        \n",
    "    if threshold_plot:\n",
    "        thresholds  = []\n",
    "        scores = []\n",
    "        for th in range(1,10):\n",
    "            thresholds.append(th/10)\n",
    "\n",
    "            scores.append(f1_score(y_valid, model.predict_proba(X_valid)[:,1] > (th/10), average = 'macro'))\n",
    "\n",
    "        plt.plot(thresholds, scores)\n",
    "    return model, tfv\n"
   ]
  },
  {
   "cell_type": "markdown",
   "metadata": {},
   "source": [
    "# Test"
   ]
  },
  {
   "cell_type": "code",
   "execution_count": 53,
   "metadata": {},
   "outputs": [],
   "source": [
    "def test(X, y, X_test,y_test,min_df, threshold = 0.5):\n",
    "    le = LabelEncoder()\n",
    "    y = le.fit_transform(y)\n",
    "\n",
    "    tfv = TfidfVectorizer(tokenizer=nltk.casual_tokenize, min_df=min_df,  max_features=30000, \n",
    "                strip_accents='unicode', analyzer='word',ngram_range=(1,1),\n",
    "                use_idf=1,smooth_idf=1,sublinear_tf=1,\n",
    "                stop_words = 'english')\n",
    "    X = tfv.fit_transform(X).tocsr()\n",
    "\n",
    "    model = NbSvmClassifier(C=1, dual=True, n_jobs=1)\n",
    "\n",
    "    model.fit(X, y)\n",
    "\n",
    "    y_test = le.transform(y_test)\n",
    "    X_test = tfv.transform(X_test).tocsr()\n",
    "    \n",
    "    print('##### TEST DATA #####')\n",
    "    print(X_test.shape, y_test.shape)\n",
    "#     proba_test = model.predict_proba(X_test)[:,1]\n",
    "\n",
    "    if len(le.classes_) > 2:\n",
    "        preds_test = model.predict(X_test)\n",
    "        print(classification_report(y_test, preds_test))\n",
    "        print('AUC: ',  roc_auc_score(y_test, model.predict_proba(X_test), multi_class ='ovr'))\n",
    "    else:\n",
    "        \n",
    "        print(classification_report(y_test, (model.predict_proba(X_test)[:,1] > threshold).astype('int')))\n",
    "        print('AUC: ',  roc_auc_score(y_test, model.predict_proba(X_test)[:,1]))\n",
    "\n",
    "\n",
    "    return model, tfv\n",
    "\n"
   ]
  },
  {
   "cell_type": "code",
   "execution_count": 54,
   "metadata": {},
   "outputs": [],
   "source": [
    "def two_pred(preds):\n",
    "    if preds[0] == 1:\n",
    "        return 1\n",
    "    else:\n",
    "        if preds[1] == 0:\n",
    "            return 0\n",
    "        else:\n",
    "            return 2\n",
    "\n",
    "def two_stage(X_test, y_test, model1, model2, tfv1, tfv2, th1, th2):\n",
    "    \n",
    "    X_test1 = tfv1.transform(X_test).tocsr()\n",
    "    X_test2 = tfv2.transform(X_test).tocsr()\n",
    "    \n",
    "    # 0 grp 1 inv 2 oth\n",
    "    \n",
    "    y_pred1 = (model1.predict_proba(X_test1)[:,1] > th1).astype('int') # 0 inv 1 not inv\n",
    "    y_pred1 = np.array([1] *len(y_pred1)) ^ y_pred1 # 0 not inv 1 inv\n",
    "    \n",
    "    y_pred2 = (model2.predict_proba(X_test2)[:,1] > th2).astype('int') # 0 grp 1 oth\n",
    "    \n",
    "    \n",
    "    preds = list(tuple(zip(y_pred1,y_pred2)))\n",
    "    preds_test = np.array(list(map( two_pred, preds)))\n",
    "    \n",
    "    le = LabelEncoder()\n",
    "    y = le.fit_transform(y_test)\n",
    "    \n",
    "    print(classification_report(y, preds_test))\n",
    "\n",
    "    "
   ]
  },
  {
   "cell_type": "code",
   "execution_count": 43,
   "metadata": {},
   "outputs": [
    {
     "data": {
      "text/plain": [
       "[1, 1, 0, 2]"
      ]
     },
     "execution_count": 43,
     "metadata": {},
     "output_type": "execute_result"
    }
   ],
   "source": [
    "A = np.array([1,1,0,0])\n",
    "B = np.array([0,1,0,1])\n",
    "def two_pred(preds):\n",
    "    if preds[0] == 1:\n",
    "        return 1\n",
    "    else:\n",
    "        if preds[1] == 0:\n",
    "            return 0\n",
    "        else:\n",
    "            return 2\n",
    "preds = list(tuple(zip(A,B)))\n",
    "list(map( two_pred, preds))\n"
   ]
  },
  {
   "cell_type": "markdown",
   "metadata": {},
   "source": [
    "# Load Data"
   ]
  },
  {
   "cell_type": "code",
   "execution_count": 55,
   "metadata": {},
   "outputs": [],
   "source": [
    "PREPROCESSED = '../preprocessed/'\n",
    "\n",
    "olid = pd.read_csv(PREPROCESSED + 'olid.csv')\n",
    "olid_traina = olid[~pd.isna(olid['tweet_cleaned'])]\n",
    "olid_trainb = olid_traina[~pd.isna(olid_traina['subtask_b'])]\n",
    "olid_trainc = olid_traina[~pd.isna(olid_traina['subtask_c'])]\n",
    "olid_traincii = olid_traina[~pd.isna(olid_traina['subtask_c_ii'])]\n",
    "olid_trainciii = olid_traina[~pd.isna(olid_traina['subtask_c_iii'])]\n",
    "\n",
    "\n",
    "olid_testa = pd.read_csv(PREPROCESSED + 'olid-levela.csv')\n",
    "olid_testa = olid_testa[~pd.isna(olid_testa['tweet_cleaned'])]\n",
    "\n",
    "olid_testb = pd.read_csv(PREPROCESSED + 'olid-levelb.csv')\n",
    "olid_testb = olid_testb[~pd.isna(olid_testb['tweet_cleaned'])]\n",
    "\n",
    "olid_testc = pd.read_csv(PREPROCESSED + 'olid-levelc.csv')\n",
    "olid_testc = olid_testc[~pd.isna(olid_testc['tweet_cleaned'])]\n",
    "olid_testcii = olid_testc[~pd.isna(olid_testc['subtask_c_ii'])]\n",
    "olid_testciii = olid_testc[~pd.isna(olid_testc['subtask_c_iii'])]\n"
   ]
  },
  {
   "cell_type": "code",
   "execution_count": 7,
   "metadata": {},
   "outputs": [
    {
     "data": {
      "text/html": [
       "<div>\n",
       "<style scoped>\n",
       "    .dataframe tbody tr th:only-of-type {\n",
       "        vertical-align: middle;\n",
       "    }\n",
       "\n",
       "    .dataframe tbody tr th {\n",
       "        vertical-align: top;\n",
       "    }\n",
       "\n",
       "    .dataframe thead th {\n",
       "        text-align: right;\n",
       "    }\n",
       "</style>\n",
       "<table border=\"1\" class=\"dataframe\">\n",
       "  <thead>\n",
       "    <tr style=\"text-align: right;\">\n",
       "      <th></th>\n",
       "      <th>id</th>\n",
       "      <th>tweet</th>\n",
       "      <th>subtask_c</th>\n",
       "      <th>tweet_cleaned</th>\n",
       "      <th>subtask_c_ii</th>\n",
       "      <th>subtask_c_iii</th>\n",
       "    </tr>\n",
       "  </thead>\n",
       "  <tbody>\n",
       "    <tr>\n",
       "      <th>0</th>\n",
       "      <td>15923</td>\n",
       "      <td>#WhoIsQ #WheresTheServer #DumpNike #DECLASFISA Democrats Support Antifa, Muslim Brotherhood, MS13, ISIS, Pedophilia, Child Trafficking, Taxpayer Funded Abortion’s, Election Fraud, Sedition And Treason!!! #LockThemAllUp #WWG1WGA #QAnon ⁦@USER URL</td>\n",
       "      <td>OTH</td>\n",
       "      <td>democrats support antifa muslim brotherhood ms13 isis pedophilia child trafficking taxpayer funded abortion’s election fraud sedition and treason    ⁦</td>\n",
       "      <td>OTH</td>\n",
       "      <td>OTH</td>\n",
       "    </tr>\n",
       "    <tr>\n",
       "      <th>1</th>\n",
       "      <td>60133</td>\n",
       "      <td>#NoPasaran: Unity demo to oppose the far-right in #London – #antifa #Oct13 — Enough is Enough! URL</td>\n",
       "      <td>GRP</td>\n",
       "      <td>unity demo to oppose the farright in  –   — enough is enough</td>\n",
       "      <td>OTH</td>\n",
       "      <td>GRP</td>\n",
       "    </tr>\n",
       "    <tr>\n",
       "      <th>2</th>\n",
       "      <td>83681</td>\n",
       "      <td>. . . What the fuck did he do this time?</td>\n",
       "      <td>IND</td>\n",
       "      <td>what the fuck did he do this time</td>\n",
       "      <td>IND</td>\n",
       "      <td>NaN</td>\n",
       "    </tr>\n",
       "    <tr>\n",
       "      <th>3</th>\n",
       "      <td>65507</td>\n",
       "      <td>@USER Do you get the feeling he is kissing @USER behind so he can humiliate him later?</td>\n",
       "      <td>OTH</td>\n",
       "      <td>do you get the feeling he is kissing  behind so he can humiliate him later</td>\n",
       "      <td>OTH</td>\n",
       "      <td>OTH</td>\n",
       "    </tr>\n",
       "    <tr>\n",
       "      <th>4</th>\n",
       "      <td>34263</td>\n",
       "      <td>#StopKavanaugh he is liar like the rest of the #GOP URL</td>\n",
       "      <td>IND</td>\n",
       "      <td>he is liar like the rest of the</td>\n",
       "      <td>IND</td>\n",
       "      <td>NaN</td>\n",
       "    </tr>\n",
       "    <tr>\n",
       "      <th>...</th>\n",
       "      <td>...</td>\n",
       "      <td>...</td>\n",
       "      <td>...</td>\n",
       "      <td>...</td>\n",
       "      <td>...</td>\n",
       "      <td>...</td>\n",
       "    </tr>\n",
       "    <tr>\n",
       "      <th>208</th>\n",
       "      <td>30778</td>\n",
       "      <td>#StopEtchecopar? Fuck you all 🖕🖕🖕🖕🖕 Que florezcan mil Baby Etchecopar 🌻🌻🌻</td>\n",
       "      <td>IND</td>\n",
       "      <td>fuck you all  que florezcan mil baby etchecopar</td>\n",
       "      <td>IND</td>\n",
       "      <td>NaN</td>\n",
       "    </tr>\n",
       "    <tr>\n",
       "      <th>209</th>\n",
       "      <td>22569</td>\n",
       "      <td>#Antifa are mentally unstable cowards, pretending to be relevant. URL</td>\n",
       "      <td>GRP</td>\n",
       "      <td>are mentally unstable cowards pretending to be relevant</td>\n",
       "      <td>OTH</td>\n",
       "      <td>GRP</td>\n",
       "    </tr>\n",
       "    <tr>\n",
       "      <th>210</th>\n",
       "      <td>48938</td>\n",
       "      <td>@USER @USER And Browning looked like dog shit against the same FCS school. What’s your point?</td>\n",
       "      <td>IND</td>\n",
       "      <td>and browning looked like dog shit against the same fcs school what’s your point</td>\n",
       "      <td>IND</td>\n",
       "      <td>NaN</td>\n",
       "    </tr>\n",
       "    <tr>\n",
       "      <th>211</th>\n",
       "      <td>41438</td>\n",
       "      <td>All two of them taste like ass. URL</td>\n",
       "      <td>GRP</td>\n",
       "      <td>all two of them taste like ass</td>\n",
       "      <td>OTH</td>\n",
       "      <td>GRP</td>\n",
       "    </tr>\n",
       "    <tr>\n",
       "      <th>212</th>\n",
       "      <td>73439</td>\n",
       "      <td>#DespicableDems lie again about rifles. Dem Distorted the Law to Push Gun-Control at Kavanaugh Confirmation URL via @USER</td>\n",
       "      <td>GRP</td>\n",
       "      <td>lie again about rifles dem distorted the law to push guncontrol at kavanaugh confirmation  via</td>\n",
       "      <td>OTH</td>\n",
       "      <td>GRP</td>\n",
       "    </tr>\n",
       "  </tbody>\n",
       "</table>\n",
       "<p>213 rows × 6 columns</p>\n",
       "</div>"
      ],
      "text/plain": [
       "        id  \\\n",
       "0    15923   \n",
       "1    60133   \n",
       "2    83681   \n",
       "3    65507   \n",
       "4    34263   \n",
       "..     ...   \n",
       "208  30778   \n",
       "209  22569   \n",
       "210  48938   \n",
       "211  41438   \n",
       "212  73439   \n",
       "\n",
       "                                                                                                                                                                                                                                                     tweet  \\\n",
       "0    #WhoIsQ #WheresTheServer #DumpNike #DECLASFISA Democrats Support Antifa, Muslim Brotherhood, MS13, ISIS, Pedophilia, Child Trafficking, Taxpayer Funded Abortion’s, Election Fraud, Sedition And Treason!!! #LockThemAllUp #WWG1WGA #QAnon ⁦@USER URL   \n",
       "1                                                                                                                                                       #NoPasaran: Unity demo to oppose the far-right in #London – #antifa #Oct13 — Enough is Enough! URL   \n",
       "2                                                                                                                                                                                                                 . . . What the fuck did he do this time?   \n",
       "3                                                                                                                                                                   @USER Do you get the feeling he is kissing @USER behind so he can humiliate him later?   \n",
       "4                                                                                                                                                                                                  #StopKavanaugh he is liar like the rest of the #GOP URL   \n",
       "..                                                                                                                                                                                                                                                     ...   \n",
       "208                                                                                                                                                                              #StopEtchecopar? Fuck you all 🖕🖕🖕🖕🖕 Que florezcan mil Baby Etchecopar 🌻🌻🌻   \n",
       "209                                                                                                                                                                                  #Antifa are mentally unstable cowards, pretending to be relevant. URL   \n",
       "210                                                                                                                                                          @USER @USER And Browning looked like dog shit against the same FCS school. What’s your point?   \n",
       "211                                                                                                                                                                                                                    All two of them taste like ass. URL   \n",
       "212                                                                                                                              #DespicableDems lie again about rifles. Dem Distorted the Law to Push Gun-Control at Kavanaugh Confirmation URL via @USER   \n",
       "\n",
       "    subtask_c  \\\n",
       "0         OTH   \n",
       "1         GRP   \n",
       "2         IND   \n",
       "3         OTH   \n",
       "4         IND   \n",
       "..        ...   \n",
       "208       IND   \n",
       "209       GRP   \n",
       "210       IND   \n",
       "211       GRP   \n",
       "212       GRP   \n",
       "\n",
       "                                                                                                                                              tweet_cleaned  \\\n",
       "0    democrats support antifa muslim brotherhood ms13 isis pedophilia child trafficking taxpayer funded abortion’s election fraud sedition and treason    ⁦   \n",
       "1                                                                                              unity demo to oppose the farright in  –   — enough is enough   \n",
       "2                                                                                                                         what the fuck did he do this time   \n",
       "3                                                                                do you get the feeling he is kissing  behind so he can humiliate him later   \n",
       "4                                                                                                                           he is liar like the rest of the   \n",
       "..                                                                                                                                                      ...   \n",
       "208                                                                                                         fuck you all  que florezcan mil baby etchecopar   \n",
       "209                                                                                                 are mentally unstable cowards pretending to be relevant   \n",
       "210                                                                         and browning looked like dog shit against the same fcs school what’s your point   \n",
       "211                                                                                                                          all two of them taste like ass   \n",
       "212                                                          lie again about rifles dem distorted the law to push guncontrol at kavanaugh confirmation  via   \n",
       "\n",
       "    subtask_c_ii subtask_c_iii  \n",
       "0            OTH           OTH  \n",
       "1            OTH           GRP  \n",
       "2            IND           NaN  \n",
       "3            OTH           OTH  \n",
       "4            IND           NaN  \n",
       "..           ...           ...  \n",
       "208          IND           NaN  \n",
       "209          OTH           GRP  \n",
       "210          IND           NaN  \n",
       "211          OTH           GRP  \n",
       "212          OTH           GRP  \n",
       "\n",
       "[213 rows x 6 columns]"
      ]
     },
     "execution_count": 7,
     "metadata": {},
     "output_type": "execute_result"
    }
   ],
   "source": [
    "olid_testc"
   ]
  },
  {
   "cell_type": "markdown",
   "metadata": {},
   "source": [
    "# Subtask A"
   ]
  },
  {
   "cell_type": "code",
   "execution_count": 38,
   "metadata": {},
   "outputs": [
    {
     "name": "stdout",
     "output_type": "stream",
     "text": [
      "(8870, 1177) (4369, 1177) (8870,) (4369,)\n",
      "              precision    recall  f1-score   support\n",
      "\n",
      "           0       0.77      0.96      0.85      5922\n",
      "           1       0.83      0.43      0.57      2948\n",
      "\n",
      "    accuracy                           0.78      8870\n",
      "   macro avg       0.80      0.69      0.71      8870\n",
      "weighted avg       0.79      0.78      0.76      8870\n",
      "\n",
      "AUC:  0.8362388973892625\n",
      "              precision    recall  f1-score   support\n",
      "\n",
      "           0       0.76      0.95      0.84      2917\n",
      "           1       0.79      0.39      0.52      1452\n",
      "\n",
      "    accuracy                           0.76      4369\n",
      "   macro avg       0.77      0.67      0.68      4369\n",
      "weighted avg       0.77      0.76      0.74      4369\n",
      "\n",
      "AUC:  0.7659210848158086\n",
      "(859, 1177) (859,)\n",
      "              precision    recall  f1-score   support\n",
      "\n",
      "           0       0.83      0.93      0.88       619\n",
      "           1       0.75      0.51      0.61       240\n",
      "\n",
      "    accuracy                           0.82       859\n",
      "   macro avg       0.79      0.72      0.74       859\n",
      "weighted avg       0.81      0.82      0.80       859\n",
      "\n",
      "AUC:  0.7728156973613355\n"
     ]
    },
    {
     "data": {
      "image/png": "[encoded data removed]",
      "text/plain": [
       "<Figure size 432x288 with 1 Axes>"
      ]
     },
     "metadata": {
      "needs_background": "light"
     },
     "output_type": "display_data"
    }
   ],
   "source": [
    "modela, tfva = train_validate(olid_traina['tweet_cleaned'], olid_traina['subtask_a'], 20, True)\n",
    "test(olid_traina['tweet_cleaned'], olid_traina['subtask_a'], olid_testa['tweet_cleaned'], olid_testa['subtask_a'], 20, 0.4)"
   ]
  },
  {
   "cell_type": "markdown",
   "metadata": {},
   "source": [
    "# Subtask B"
   ]
  },
  {
   "cell_type": "code",
   "execution_count": 39,
   "metadata": {},
   "outputs": [
    {
     "name": "stdout",
     "output_type": "stream",
     "text": [
      "(2948, 1349) (1452, 1349) (2948,) (1452,)\n",
      "              precision    recall  f1-score   support\n",
      "\n",
      "           0       0.89      1.00      0.94      2599\n",
      "           1       0.84      0.05      0.09       349\n",
      "\n",
      "    accuracy                           0.89      2948\n",
      "   macro avg       0.86      0.52      0.51      2948\n",
      "weighted avg       0.88      0.89      0.84      2948\n",
      "\n",
      "AUC:  0.8650572018552429\n",
      "              precision    recall  f1-score   support\n",
      "\n",
      "           0       0.88      1.00      0.93      1277\n",
      "           1       0.33      0.01      0.02       175\n",
      "\n",
      "    accuracy                           0.88      1452\n",
      "   macro avg       0.61      0.50      0.48      1452\n",
      "weighted avg       0.81      0.88      0.82      1452\n",
      "\n",
      "AUC:  0.6461013536189731\n",
      "(240, 1349) (240,)\n",
      "              precision    recall  f1-score   support\n",
      "\n",
      "           0       0.93      0.93      0.93       213\n",
      "           1       0.44      0.41      0.42        27\n",
      "\n",
      "    accuracy                           0.88       240\n",
      "   macro avg       0.68      0.67      0.68       240\n",
      "weighted avg       0.87      0.88      0.87       240\n",
      "\n",
      "AUC:  0.7755173013388976\n"
     ]
    },
    {
     "data": {
      "image/png": "[encoded data removed]",
      "text/plain": [
       "<Figure size 432x288 with 1 Axes>"
      ]
     },
     "metadata": {
      "needs_background": "light"
     },
     "output_type": "display_data"
    }
   ],
   "source": [
    "modelb, tfvb = train_validate(olid_trainb['tweet_cleaned'], olid_trainb['subtask_b'],7, True)\n",
    "test(olid_trainb['tweet_cleaned'], olid_trainb['subtask_b'], olid_testb['tweet_cleaned'], olid_testb['subtask_b'],7, 0.2)"
   ]
  },
  {
   "cell_type": "markdown",
   "metadata": {},
   "source": [
    "# Subtask C (i)"
   ]
  },
  {
   "cell_type": "code",
   "execution_count": 6,
   "metadata": {},
   "outputs": [
    {
     "name": "stdout",
     "output_type": "stream",
     "text": [
      "(2596, 1790) (1280, 1790) (2596,) (1280,)\n",
      "##### TRAINING DATA #####\n",
      "              precision    recall  f1-score   support\n",
      "\n",
      "           0       0.76      0.57      0.65       735\n",
      "           1       0.75      0.95      0.84      1600\n",
      "           2       1.00      0.01      0.02       261\n",
      "\n",
      "    accuracy                           0.75      2596\n",
      "   macro avg       0.84      0.51      0.50      2596\n",
      "weighted avg       0.78      0.75      0.70      2596\n",
      "\n",
      "AUC:  0.8833370040571302\n",
      "##### VALIDATION DATA #####\n",
      "              precision    recall  f1-score   support\n",
      "\n",
      "           0       0.59      0.41      0.48       339\n",
      "           1       0.71      0.92      0.80       807\n",
      "           2       0.00      0.00      0.00       134\n",
      "\n",
      "    accuracy                           0.69      1280\n",
      "   macro avg       0.43      0.44      0.43      1280\n",
      "weighted avg       0.61      0.69      0.63      1280\n",
      "\n",
      "AUC:  0.7160594894211149\n",
      "##### TEST DATA #####\n",
      "(213, 1580) (213,)\n",
      "              precision    recall  f1-score   support\n",
      "\n",
      "           0       0.70      0.40      0.51        78\n",
      "           1       0.55      0.93      0.69       100\n",
      "           2       0.00      0.00      0.00        35\n",
      "\n",
      "    accuracy                           0.58       213\n",
      "   macro avg       0.42      0.44      0.40       213\n",
      "weighted avg       0.52      0.58      0.51       213\n",
      "\n",
      "AUC:  0.6793207505263231\n"
     ]
    },
    {
     "name": "stderr",
     "output_type": "stream",
     "text": [
      "/home/arsaikia/anaconda3/envs/hd/lib/python3.7/site-packages/sklearn/metrics/_classification.py:1221: UndefinedMetricWarning: Precision and F-score are ill-defined and being set to 0.0 in labels with no predicted samples. Use `zero_division` parameter to control this behavior.\n",
      "  _warn_prf(average, modifier, msg_start, len(result))\n"
     ]
    }
   ],
   "source": [
    "modelc, tfvc = train_validate(olid_trainc['tweet_cleaned'], olid_trainc['subtask_c'],5)\n",
    "test(olid_trainc['tweet_cleaned'], olid_trainc['subtask_c'], olid_testc['tweet_cleaned'], olid_testc['subtask_c'],5)\n",
    "# 0 grp 1 inv 2 oth"
   ]
  },
  {
   "cell_type": "markdown",
   "metadata": {},
   "source": [
    "# Subtask C (ii)"
   ]
  },
  {
   "cell_type": "code",
   "execution_count": 56,
   "metadata": {},
   "outputs": [
    {
     "name": "stdout",
     "output_type": "stream",
     "text": [
      "(2596, 1790) (1280, 1790) (2596,) (1280,)\n",
      "##### TRAINING DATA #####\n",
      "              precision    recall  f1-score   support\n",
      "\n",
      "           0       0.78      0.92      0.84      1600\n",
      "           1       0.82      0.59      0.68       996\n",
      "\n",
      "    accuracy                           0.79      2596\n",
      "   macro avg       0.80      0.75      0.76      2596\n",
      "weighted avg       0.80      0.79      0.78      2596\n",
      "\n",
      "AUC:  0.8907012424698795\n",
      "##### VALIDATION DATA #####\n",
      "              precision    recall  f1-score   support\n",
      "\n",
      "           0       0.75      0.88      0.81       807\n",
      "           1       0.71      0.49      0.58       473\n",
      "\n",
      "    accuracy                           0.74      1280\n",
      "   macro avg       0.73      0.69      0.69      1280\n",
      "weighted avg       0.73      0.74      0.72      1280\n",
      "\n",
      "AUC:  0.7756142736258582\n",
      "##### TEST DATA #####\n",
      "(213, 1580) (213,)\n",
      "              precision    recall  f1-score   support\n",
      "\n",
      "           0       0.55      0.96      0.70       100\n",
      "           1       0.89      0.29      0.44       113\n",
      "\n",
      "    accuracy                           0.61       213\n",
      "   macro avg       0.72      0.63      0.57       213\n",
      "weighted avg       0.73      0.61      0.56       213\n",
      "\n",
      "AUC:  0.7292035398230089\n"
     ]
    },
    {
     "data": {
      "image/png": "[encoded data removed]",
      "text/plain": [
       "<Figure size 432x288 with 1 Axes>"
      ]
     },
     "metadata": {
      "needs_background": "light"
     },
     "output_type": "display_data"
    }
   ],
   "source": [
    "modelcii, tfvcii = train_validate(olid_traincii['tweet_cleaned'], olid_traincii['subtask_c_ii'],5, True)\n",
    "modelcii, tfvcii = test(olid_traincii['tweet_cleaned'], olid_traincii['subtask_c_ii'], olid_testcii['tweet_cleaned'], olid_testcii['subtask_c_ii'],5, 0.6)\n",
    "\n"
   ]
  },
  {
   "cell_type": "markdown",
   "metadata": {},
   "source": [
    "# Subtask C (iii)"
   ]
  },
  {
   "cell_type": "code",
   "execution_count": 18,
   "metadata": {},
   "outputs": [
    {
     "name": "stdout",
     "output_type": "stream",
     "text": [
      "(984, 823) (485, 823) (984,) (485,)\n",
      "##### TRAINING DATA #####\n",
      "              precision    recall  f1-score   support\n",
      "\n",
      "           0       0.76      1.00      0.86       719\n",
      "           1       1.00      0.14      0.25       265\n",
      "\n",
      "    accuracy                           0.77       984\n",
      "   macro avg       0.88      0.57      0.55       984\n",
      "weighted avg       0.82      0.77      0.70       984\n",
      "\n",
      "AUC:  0.8755635447555565\n",
      "##### VALIDATION DATA #####\n",
      "              precision    recall  f1-score   support\n",
      "\n",
      "           0       0.73      0.99      0.84       355\n",
      "           1       0.50      0.02      0.04       130\n",
      "\n",
      "    accuracy                           0.73       485\n",
      "   macro avg       0.62      0.51      0.44       485\n",
      "weighted avg       0.67      0.73      0.63       485\n",
      "\n",
      "AUC:  0.5752221018418202\n",
      "##### TEST DATA #####\n",
      "(113, 742) (113,)\n",
      "              precision    recall  f1-score   support\n",
      "\n",
      "           0       0.73      0.81      0.77        78\n",
      "           1       0.44      0.34      0.39        35\n",
      "\n",
      "    accuracy                           0.66       113\n",
      "   macro avg       0.59      0.58      0.58       113\n",
      "weighted avg       0.64      0.66      0.65       113\n",
      "\n",
      "AUC:  0.602930402930403\n"
     ]
    },
    {
     "data": {
      "image/png": "[encoded data removed]",
      "text/plain": [
       "<Figure size 432x288 with 1 Axes>"
      ]
     },
     "metadata": {
      "needs_background": "light"
     },
     "output_type": "display_data"
    }
   ],
   "source": [
    "modelciii, tfvciii = train_validate(olid_trainciii['tweet_cleaned'], olid_trainciii['subtask_c_iii'],5,True)\n",
    "modelciii, tfvciii, leciii = test(olid_trainciii['tweet_cleaned'], olid_trainciii['subtask_c_iii'], olid_testciii['tweet_cleaned'], olid_testciii['subtask_c_iii'],5, 0.3)"
   ]
  },
  {
   "cell_type": "code",
   "execution_count": 64,
   "metadata": {},
   "outputs": [
    {
     "name": "stdout",
     "output_type": "stream",
     "text": [
      "              precision    recall  f1-score   support\n",
      "\n",
      "           0       0.69      0.40      0.50        78\n",
      "           1       0.58      0.91      0.71       100\n",
      "           2       0.18      0.06      0.09        35\n",
      "\n",
      "    accuracy                           0.58       213\n",
      "   macro avg       0.48      0.45      0.43       213\n",
      "weighted avg       0.55      0.58      0.53       213\n",
      "\n"
     ]
    }
   ],
   "source": [
    "two_stage(olid_testc['tweet_cleaned'], olid_testc['subtask_c'], modelcii, modelciii, tfvcii, tfvciii, 0.5, 0.3)\n",
    "    \n",
    "    "
   ]
  },
  {
   "cell_type": "markdown",
   "metadata": {},
   "source": [
    "# Feature Importances"
   ]
  },
  {
   "cell_type": "code",
   "execution_count": 41,
   "metadata": {},
   "outputs": [],
   "source": [
    "def top_lr_feats(features,row, top_n=25, pos = True):\n",
    "    ''' Get top n tfidf values in row and return them with their corresponding feature names.'''\n",
    "    if pos == True:\n",
    "        topn_ids = np.argsort(row)[::-1][:top_n]\n",
    "    else:\n",
    "        topn_ids = np.argsort(row)[:top_n]\n",
    "    top_feats = [(features[i], row[i]) for i in topn_ids]\n",
    "    df = pd.DataFrame(top_feats)\n",
    "    return df.iloc[:,0].values, df.iloc[:,1].values\n",
    "\n",
    "def plot_feat_imp(model, tfv, pos_label, neg_label):\n",
    "    fig,(ax1,ax2)=plt.subplots(2,1,figsize=(20,7))\n",
    "\n",
    "    features = np.array(tfv.get_feature_names())\n",
    "    x, y = top_lr_feats(features,  model.coef_[0],top_n = 20, pos = True)\n",
    "    sns.barplot(x, y, ax = ax1)\n",
    "    ax1.set_title('Class : ' + pos_label)\n",
    "    x, y = top_lr_feats(features, model.coef_[0], top_n = 20, pos = False)\n",
    "    sns.barplot(x, y, ax = ax2)\n",
    "    ax2.set_title('Class : ' + neg_label)\n",
    "\n",
    "    fig.text(0.5, 0.04, 'unigrams', ha='center')\n",
    "    fig.text(0.05, 0.5, 'coeff', va='center',  rotation='vertical')\n",
    "    fig.suptitle('Feature Importances', fontsize=16)\n",
    "# sns.barplot(features,model.coef_[0])"
   ]
  },
  {
   "cell_type": "code",
   "execution_count": 42,
   "metadata": {},
   "outputs": [
    {
     "data": {
      "image/png": "[encoded data removed]",
      "text/plain": [
       "<Figure size 1440x504 with 2 Axes>"
      ]
     },
     "metadata": {
      "needs_background": "light"
     },
     "output_type": "display_data"
    }
   ],
   "source": [
    "plot_feat_imp(modela, tfva, 'OFF', 'NOT')"
   ]
  },
  {
   "cell_type": "code",
   "execution_count": 43,
   "metadata": {},
   "outputs": [
    {
     "data": {
      "image/png": "[encoded data removed]",
      "text/plain": [
       "<Figure size 1440x504 with 2 Axes>"
      ]
     },
     "metadata": {
      "needs_background": "light"
     },
     "output_type": "display_data"
    }
   ],
   "source": [
    "plot_feat_imp(modelb, tfvb, 'TIN', 'UNT')"
   ]
  },
  {
   "cell_type": "code",
   "execution_count": null,
   "metadata": {},
   "outputs": [],
   "source": []
  },
  {
   "cell_type": "code",
   "execution_count": 13,
   "metadata": {},
   "outputs": [],
   "source": [
    "# feature selection\n",
    "# oversampling??"
   ]
  }
 ],
 "metadata": {
  "kernelspec": {
   "display_name": "hd",
   "language": "python",
   "name": "hd"
  },
  "language_info": {
   "codemirror_mode": {
    "name": "ipython",
    "version": 3
   },
   "file_extension": ".py",
   "mimetype": "text/x-python",
   "name": "python",
   "nbconvert_exporter": "python",
   "pygments_lexer": "ipython3",
   "version": "3.7.9"
  }
 },
 "nbformat": 4,
 "nbformat_minor": 4
}
